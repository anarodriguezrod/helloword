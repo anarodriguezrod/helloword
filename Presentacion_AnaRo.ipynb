{
 "cells": [
  {
   "cell_type": "markdown",
   "metadata": {},
   "source": [
    "<img style=\"float: right; margin: 0px 0px 15px 15px;\" src=\"https://www.instagram.com/p/BVyEkyfBKv8/?taken-by=anarodriguezrod\"  width=\"150px\" height=\"50px\" />\n",
    "\n",
    "# Presentación\n",
    "## <font color = pink>  Ana Rodríguez </font)>\n",
    "- 20 Años\n",
    "- Guadalajara\n",
    "- Ingenieria Financiera"
   ]
  },
  {
   "cell_type": "markdown",
   "metadata": {},
   "source": [
    "> Estudio en el ITESO por las mañanas, en la tarde trabajo en una escuela de idiomas llamado Mundo Bilingue.\n",
    "\n",
    "> En mis tiempos libres me gusta salir a comer o al cine con mis amigas, no soy mucho de estar en casa mas que cuando estoy cansada.\n",
    "\n",
    "> Casi no me gusta salir los fines de semana por la noche, me gusta mas dormir o ver series ya que me es muy dificil reponer las desveladas. \n"
   ]
  },
  {
   "cell_type": "markdown",
   "metadata": {},
   "source": [
    "$f(x)=\\frac{\\sin(os)}{\\cos(os)} = \\tan(os)$"
   ]
  },
  {
   "cell_type": "markdown",
   "metadata": {
    "collapsed": true
   },
   "source": [
    "### <font color = orange> ¿Qué espero de la materia de Simulación Matemática? </font)>\n",
    "\n",
    "#### Al final de este curso me gustaria ser capaz de manejar el lenguaje de python usando jupyter notebook, ser capaz de ver los errores en cuanto a los modelos matematicos a desarrollar y en el codigo usado, que esta herramienta me sirva para proximos proyectos y tenga un buen dominio y percepcion de lo usado."
   ]
  },
  {
   "cell_type": "code",
   "execution_count": null,
   "metadata": {
    "collapsed": true
   },
   "outputs": [],
   "source": []
  }
 ],
 "metadata": {
  "kernelspec": {
   "display_name": "Python 3",
   "language": "python",
   "name": "python3"
  },
  "language_info": {
   "codemirror_mode": {
    "name": "ipython",
    "version": 3
   },
   "file_extension": ".py",
   "mimetype": "text/x-python",
   "name": "python",
   "nbconvert_exporter": "python",
   "pygments_lexer": "ipython3",
   "version": "3.6.3"
  }
 },
 "nbformat": 4,
 "nbformat_minor": 2
}
